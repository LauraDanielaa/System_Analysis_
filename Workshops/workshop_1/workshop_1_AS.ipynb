{
  "cells": [
    {
      "cell_type": "markdown",
      "metadata": {
        "id": "Bgtp5XShVNw3"
      },
      "source": [
        "\n",
        "Workshop Definition:\n",
        "Welcome to the first workshop of Systems Analysis course. Let’s funny me with a biological exercise.\n",
        "\n",
        "Imagine you have been hired as data analyst in an important biotechnology company. Your boss, science chief officer, want to get some patterns in genomic data, sometimes called motifs.\n",
        "\n",
        "Here you will have some tasks in order to complete this workshop: Create a dummy database of genetic sequences composed of nucleotide bases (A, C, G, T), where each sequence must have between 10 and 20 bases. Your database must be composed for 50.000 genetic sequences.\n",
        "\n",
        "---> Get the motifs (must repeated sequence) of size 6 and 8. Use the Shannon Entropy measurement to filter sequences with not a good variance level. Get again the motifs of size 6 and 8.\n",
        "\n",
        "Write some conclusions based on your analysis. Write any technical concern/decision/difficulty you think is relevant regarding your work. You must deliver a full report detailing each one of the previous steps. For steeps 1 to 4 you must describe the algorithms you propose and let an screenshot about the code and the output of the code. I strongly recommend you to use a Jupyter Notebook or a COLAB to write/execute your code.\n",
        "\n",
        "\n"
      ]
    },
    {
      "cell_type": "code",
      "execution_count": null,
      "metadata": {
        "colab": {
          "base_uri": "https://localhost:8080/"
        },
        "id": "4eWE6Wd5V3cP",
        "outputId": "77d35da6-e47a-4c89-ba7f-2f4a05efb05b"
      },
      "outputs": [
        {
          "output_type": "stream",
          "name": "stdout",
          "text": [
            "ATTCCGTCCAGG\n"
          ]
        }
      ],
      "source": [
        "#crear una base de datos dummy (Dummy data base)\n",
        "import random\n",
        "\n",
        "def create_sequence():\n",
        "    nucleotid_bases = ['A', 'C', 'G', 'T']\n",
        "    size_sequence = random.randint(10, 20) #las cadenas deben de tener 10 a 20 bases nucleotidas\n",
        "    new_sequence = [nucleotid_bases[random.randint(0,3)] for i in range (size_sequence)]\n",
        "    return \"\".join(new_sequence)\n",
        "\n",
        "print(create_sequence())"
      ]
    },
    {
      "cell_type": "code",
      "execution_count": null,
      "metadata": {
        "colab": {
          "background_save": true
        },
        "id": "4ymfpO9eaC9R"
      },
      "outputs": [],
      "source": [
        "#Crear la base de datos dummy\n",
        "def create_database(length):\n",
        "    db_size = length\n",
        "    data_base ={create_sequence() for i in range (db_size)}\n",
        "    return data_base\n"
      ]
    },
    {
      "cell_type": "code",
      "execution_count": null,
      "metadata": {
        "id": "Fao3atuwc5tB"
      },
      "outputs": [],
      "source": [
        "def get_combination(n, sequences, bases):\n",
        "  if n == 1:\n",
        "    return[sequence+base for sequence in sequences for base in bases]\n",
        "  else:\n",
        "    sequence = [sequence + base for sequence in sequences for base in bases]\n",
        "    return get_combination(n-1, sequence, bases)"
      ]
    },
    {
      "cell_type": "code",
      "execution_count": null,
      "metadata": {
        "id": "BzWv4uCfmLOc"
      },
      "outputs": [],
      "source": [
        "# Procedimiento para calcular la moda\n",
        "def count_motif(motif, sequences_db):\n",
        "    count = 0\n",
        "    for sequence in sequences_db:\n",
        "        count += sequence.count(motif)\n",
        "    return count\n"
      ]
    },
    {
      "cell_type": "code",
      "execution_count": null,
      "metadata": {
        "id": "9SjNcDylfl-x"
      },
      "outputs": [],
      "source": [
        "def get_motif(motif_size, sequences_db):\n",
        "    nucletid_bases = [\"A\", \"C\", \"G\", \"T\"]\n",
        "    combinations = get_combination(motif_size, [\"\"], nucletid_bases)\n",
        "    max_counter = 0\n",
        "    motif_winner = \"\"\n",
        "\n",
        "#Condicion para calcular el motif\n",
        "    for motif_candidate in combinations:\n",
        "        temp_conter = count_motif(motif_candidate, sequences_db)\n",
        "        if temp_conter > max_counter:\n",
        "            max_counter = temp_conter\n",
        "            motif_winner = motif_candidate\n",
        "    return motif_winner,max_counter\n"
      ]
    },
    {
      "cell_type": "code",
      "execution_count": null,
      "metadata": {
        "colab": {
          "base_uri": "https://localhost:8080/"
        },
        "id": "a3w4fd4IhpiH",
        "outputId": "2a18345d-f215-497b-e4f8-990807283b6b"
      },
      "outputs": [
        {
          "name": "stdout",
          "output_type": "stream",
          "text": [
            "('CACCCG', 173)\n",
            "('TGTTCCGA', 20)\n"
          ]
        }
      ],
      "source": [
        "#Imprime los mofits que mas se repite de cadena de 6 y 8 bases nucleotidas\n",
        "print(get_motif(6, create_database(50000)))\n",
        "\n",
        "print(get_motif(8, create_database(50000)))"
      ]
    },
    {
      "cell_type": "markdown",
      "metadata": {
        "id": "cx42Nke4laMe"
      },
      "source": [
        "\n",
        "Entropia de shanon\n",
        "\n",
        "\n",
        "\n"
      ]
    },
    {
      "cell_type": "code",
      "execution_count": null,
      "metadata": {
        "colab": {
          "background_save": true,
          "base_uri": "https://localhost:8080/"
        },
        "id": "SndIZ43QkE1s",
        "outputId": "76bbfb30-406e-495f-807a-c8c91add8228"
      },
      "outputs": [
        {
          "name": "stdout",
          "output_type": "stream",
          "text": [
            "\n",
            "Motifs of size: 6\n",
            "\n",
            "Motifs of size: 8\n",
            "('CTGTAGGC', 21)\n",
            "('CCTGCGTT', 19)\n",
            "('TTACCGCT', 19)\n",
            "('CAGTCTTC', 18)\n",
            "('AAGCCTTG', 19)\n",
            "('CCGCGGTC', 21)\n",
            "('AAATCTAA', 19)\n",
            "('AACTTGAA', 20)\n",
            "('ACGCGCAA', 20)\n",
            "('TGGGTCAC', 18)\n"
          ]
        }
      ],
      "source": [
        "#Imprime todos las cadenas de bases nucleotidas que se repiten de 6 y 8\n",
        "for size in [6, 8]:\n",
        "    print(f\"\\nMotifs of size: {size}\")\n",
        "for i in range(10):\n",
        "    print(get_motif(size, create_database(50000)))\n"
      ]
    },
    {
      "cell_type": "code",
      "execution_count": null,
      "metadata": {
        "colab": {
          "background_save": true
        },
        "id": "a2zU7xwj3F-w",
        "outputId": "6fafd363-abcd-4321-ffb6-dc50d961d85f"
      },
      "outputs": [
        {
          "name": "stdout",
          "output_type": "stream",
          "text": [
            "('ACTCTGCT', 19)\n"
          ]
        }
      ],
      "source": [
        "print(get_motif(size, create_database(50000)))"
      ]
    },
    {
      "cell_type": "code",
      "execution_count": null,
      "metadata": {
        "id": "cqaY8TINMUuP"
      },
      "outputs": [],
      "source": [
        "import math\n",
        "from math import log2\n",
        "from collections import Counter\n",
        "\n",
        "\n",
        "def calculate_shannon_entrophy(sequence: str) -> float:\n",
        "\n",
        "def filter_shannon(sequence: str) -> bool:\n",
        "\n",
        "    # add the condition where if it is true the sequence will be used\n",
        "\n",
        "\n",
        "    return calculate_shannon_entrophy(sequence)\n",
        "\n",
        "    # ADD here the condition to filter the sequences\n",
        "\n",
        "    for size in [6,8] :\n",
        "        print(f\"\\nArter filter, motifs of size: {size}\")\n",
        "        for i in range(10):\n",
        "            dataset = create_database(50000)\n",
        "            dataset = list(filter(filter_shannon, dataset))\n",
        "            print(f\"Dataset size: {len(dataset)}, Motif : {get_motif(size, dataset)}\")\n"
      ]
    },
    {
      "cell_type": "code",
      "execution_count": null,
      "metadata": {
        "id": "DNQ_JYF6MXwW"
      },
      "outputs": [],
      "source": [
        "for size in [6, 8]:\n",
        "    print(f\"\\nArter filter, motifs of size: {size}\")\n",
        "    for i in range(10):\n",
        "        dataset = create_dataset(50000)\n",
        "        dataset = list(filter(filter_shannon, dataset))\n",
        "        print(f\"Dataset size: {len(dataset)}, Motif: {get_motif(size, dataset)}\")"
      ]
    }
  ],
  "metadata": {
    "colab": {
      "provenance": []
    },
    "kernelspec": {
      "display_name": "Python 3",
      "name": "python3"
    },
    "language_info": {
      "name": "python"
    }
  },
  "nbformat": 4,
  "nbformat_minor": 0
}